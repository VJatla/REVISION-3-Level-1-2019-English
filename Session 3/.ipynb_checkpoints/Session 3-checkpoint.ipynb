{
 "cells": [
  {
   "cell_type": "markdown",
   "metadata": {},
   "source": [
    "# Session 3: Loops, Conditionals, and Sequential Thinking"
   ]
  },
  {
   "cell_type": "markdown",
   "metadata": {},
   "source": [
    "## Introdution to for loops\n",
    "For loops allow us to repeat things"
   ]
  },
  {
   "cell_type": "code",
   "execution_count": 1,
   "metadata": {},
   "outputs": [
    {
     "name": "stdout",
     "output_type": "stream",
     "text": [
      "1\n",
      "2\n",
      "3\n"
     ]
    }
   ],
   "source": [
    "# for loops\n",
    "# Add comments to document your understanding\n",
    "start_i = 1\n",
    "stop_i  = 4\n",
    "step_i  = 1\n",
    "for i in range(start_i, stop_i, step_i):\n",
    "    print(i)"
   ]
  },
  {
   "cell_type": "code",
   "execution_count": null,
   "metadata": {
    "collapsed": true
   },
   "outputs": [],
   "source": [
    "# Write the code to count from 1 to 10\n",
    "# Your code should output: 1, 2, 3, ..., 10.\n",
    "\n"
   ]
  },
  {
   "cell_type": "code",
   "execution_count": null,
   "metadata": {
    "collapsed": true
   },
   "outputs": [],
   "source": [
    "# Write the code to count from 2 to 20 by 2\n",
    "# Your code should ouput:  2, 4, 6, ..., 20.\n",
    "\n"
   ]
  },
  {
   "cell_type": "markdown",
   "metadata": {},
   "source": [
    "## Introduction to conditional statements"
   ]
  },
  {
   "cell_type": "code",
   "execution_count": null,
   "metadata": {},
   "outputs": [],
   "source": [
    "# Guess my number game\n",
    "# Add comments to document your understanding.\n",
    "\n",
    "# Note that int() converts it to an integer.\n",
    "# int(1.1) gives 1 so that spaces are removed :-).\n",
    "number = int(input(\" Input your number \"))\n",
    "secret_number = 5\n",
    "if (number == secret_number):\n",
    "    print(\"You guessed it!\")\n",
    "    print(\"You win.\")\n",
    "else:\n",
    "    print(\"You did not guess it correctly!\")\n",
    "    print(\"I win!\")"
   ]
  },
  {
   "cell_type": "code",
   "execution_count": null,
   "metadata": {},
   "outputs": [],
   "source": [
    "# Same game with inequalities.\n",
    "# Fix the code so that the correct message is printed in all three cases.\n",
    "\n",
    "number = int(input(\" Input your number \"))\n",
    "secret_number = 5\n",
    "\n",
    "if (secret_number > number):\n",
    "    print(\"Your guess is ... 1\") # FIX the message\n",
    "elif (secret_number < number):\n",
    "    print(\"Your guess is ... 2\") # FIX the message\n",
    "else:\n",
    "    print(\"Your guess is ... 3\") # FIX the message\n",
    "        "
   ]
  },
  {
   "cell_type": "markdown",
   "metadata": {},
   "source": [
    "## Random numbers"
   ]
  },
  {
   "cell_type": "code",
   "execution_count": 7,
   "metadata": {},
   "outputs": [
    {
     "name": "stdout",
     "output_type": "stream",
     "text": [
      "7\n"
     ]
    }
   ],
   "source": [
    "# Get the Random library\n",
    "# Run the code multiple times\n",
    "# What do you observe?\n",
    "from random import *\n",
    "print(randint(1, 10)) # Pick a random number between 1 and 10."
   ]
  },
  {
   "cell_type": "markdown",
   "metadata": {},
   "source": [
    "# Combining loops and conditionals\n",
    "## While loops\n",
    "\n",
    "While loops repeat code until a condition is met.\n",
    "    \n",
    "    while (condition):\n",
    "        execute this code"
   ]
  },
  {
   "cell_type": "code",
   "execution_count": 8,
   "metadata": {},
   "outputs": [
    {
     "name": "stdout",
     "output_type": "stream",
     "text": [
      "I tried 1\n",
      "I tried 2\n",
      "I tried 3\n",
      "I tried 4\n",
      "I tried 5\n",
      "I tried 6\n",
      "I tried 7\n",
      "I tried 8\n",
      "I guessed it!\n",
      "Your number is 9\n"
     ]
    }
   ],
   "source": [
    "# Computer guessing your number by trying it all out.\n",
    "# Add comments to the code to remember what you noticed in the code.\n",
    "secret_number = 9 \n",
    "\n",
    "computer_guess_number = 1\n",
    "while (computer_guess_number != secret_number):\n",
    "    print(\"I tried \"+str(computer_guess_number))\n",
    "    computer_guess_number = computer_guess_number + 1  \n",
    "\n",
    "print(\"I guessed it!\")\n",
    "print(\"Your number is \"+str(computer_guess_number))"
   ]
  },
  {
   "cell_type": "markdown",
   "metadata": {},
   "source": [
    "## Guess random number game\n"
   ]
  },
  {
   "cell_type": "code",
   "execution_count": 9,
   "metadata": {},
   "outputs": [
    {
     "name": "stdout",
     "output_type": "stream",
     "text": [
      "I tried 1\n",
      "I tried 2\n",
      "I guessed it!\n",
      "The random number is 3\n"
     ]
    }
   ],
   "source": [
    "# Add comments to the code\n",
    "\n",
    "from random import *\n",
    "secret_number = randint(1, 10)\n",
    "\n",
    "computer_guess_number = 1\n",
    "while (computer_guess_number != secret_number):\n",
    "    print(\"I tried \"+str(computer_guess_number))\n",
    "    computer_guess_number = computer_guess_number + 1  \n",
    "\n",
    "print(\"I guessed it!\")\n",
    "print(\"The random number is \"+str(computer_guess_number))"
   ]
  },
  {
   "cell_type": "markdown",
   "metadata": {
    "collapsed": true
   },
   "source": [
    "# Guess a random number with hints\n",
    "\n",
    "Write a game that asks the user to guess a random number.<br>\n",
    "Then, give the user a hint if the number is high or low.<br>\n",
    "When the right number is found, print a success message.<br>"
   ]
  },
  {
   "cell_type": "code",
   "execution_count": null,
   "metadata": {
    "collapsed": true
   },
   "outputs": [],
   "source": []
  }
 ],
 "metadata": {
  "kernelspec": {
   "display_name": "Python 3",
   "language": "python",
   "name": "python3"
  },
  "language_info": {
   "codemirror_mode": {
    "name": "ipython",
    "version": 3
   },
   "file_extension": ".py",
   "mimetype": "text/x-python",
   "name": "python",
   "nbconvert_exporter": "python",
   "pygments_lexer": "ipython3",
   "version": "3.6.3"
  }
 },
 "nbformat": 4,
 "nbformat_minor": 2
}
