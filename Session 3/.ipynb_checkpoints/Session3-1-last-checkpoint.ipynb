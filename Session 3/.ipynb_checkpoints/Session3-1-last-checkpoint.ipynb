{
 "cells": [
  {
   "cell_type": "markdown",
   "metadata": {},
   "source": [
    "# Session 3: Loops, Conditionals, and Sequential Thinking"
   ]
  },
  {
   "cell_type": "markdown",
   "metadata": {},
   "source": [
    "## 3.1 Counting\n",
    "For loops allow us to repeat things.\n",
    "\n",
    "Start with counting from 1 to 3:\n",
    "\n",
    "    1, 2, 3.\n",
    "\n",
    "We can think of this counting using:\n",
    "\n",
    "    start = 1    <- First number\n",
    "    step  = 1    <- Add 1 to previous number\n",
    "    end   = 3    <- Do not count past 3\n",
    "    \n",
    "We can also count by 2s.\n",
    "\n",
    "To count: \n",
    "\n",
    "    5, 7, 9\n",
    "    \n",
    "we have:\n",
    "\n",
    "    start = 5\n",
    "    step  = 2\n",
    "    end   = 9.\n",
    "    \n",
    "In Python, we also add the stop index.\n",
    "The idea is to not count past the stop.\n",
    "\n",
    "For counting 1, 2, 3:\n",
    "\n",
    "    stop = 4  <- Do NOT include 4 in your counting.\n",
    "    \n",
    "For counting 5, 7, 9:\n",
    "\n",
    "    stop = 11 <- Do NOT include 11.\n",
    "    \n",
    "\n",
    "In Mathematics, you may have also covered this material under <i>arithmetic progressions</i>."
   ]
  },
  {
   "cell_type": "markdown",
   "metadata": {},
   "source": [
    "## 3.2 Counting with for loops"
   ]
  },
  {
   "cell_type": "code",
   "execution_count": null,
   "metadata": {},
   "outputs": [],
   "source": [
    "# Increasing a variable example\n",
    "# - Change the line i=3 and see what happens.\n",
    "# - Change the 2 and see what happens.\n",
    "\n",
    "i = 3\n",
    "print(i)\n",
    "\n",
    "# Note special example:\n",
    "#     i = i + 2\n",
    "# In regular algebra, this is IMPOSSIBLE. Why?\n",
    "# However, the computer will process this fine!\n",
    "#  1. It processes the right-hand-side first.\n",
    "#  2. Then it assigns the result to i (the left-hand-side)\n",
    "# What happened here?\n",
    "\n",
    "i = i + 2\n",
    "print(i)"
   ]
  },
  {
   "cell_type": "code",
   "execution_count": null,
   "metadata": {},
   "outputs": [],
   "source": [
    "# The following example shows repearing code.\n",
    "# Can you see which code is repeated?\n",
    "\n",
    "# Work through this code line-by-line\n",
    "# - Change start_i to see what happens.\n",
    "# - Change step_i  to see what happens.\n",
    "# - Add comments to document your understanding.\n",
    "\n",
    "start_i = 1\n",
    "step_i  = 1\n",
    "\n",
    "i = start_i\n",
    "print(i)\n",
    "\n",
    "i = i + step_i # increases i\n",
    "print(i)\n",
    "\n",
    "i = i + step_i # increases i\n",
    "print(i)"
   ]
  },
  {
   "cell_type": "code",
   "execution_count": null,
   "metadata": {},
   "outputs": [],
   "source": [
    "# You can use a loop to avoid retyping code that repeats.\n",
    "# The code below does the same thing using a for-loop.\n",
    "# Note the special syntax:\n",
    "# - NO empty space at the begining of a line.\n",
    "# - Note the range() command that generates 1, 2, 3.\n",
    "# - The for-loop ends with  :\n",
    "# - After the for-loop, you must have some leading space for the repeating code.\n",
    "# - ALL of the code INSIDE the for-loop must START at the same position.\n",
    "\n",
    "start_i = 1\n",
    "step_i  = 1\n",
    "\n",
    "# Stop at 4. \n",
    "stop_i  = 4\n",
    "\n",
    "for i in range(start_i, stop_i, step_i):\n",
    "    print(i)\n",
    "    # The COMMENT starts at the same position as print(i)\n",
    "    # Everything inside the loop starts at the SAME position."
   ]
  },
  {
   "cell_type": "code",
   "execution_count": null,
   "metadata": {
    "collapsed": true
   },
   "outputs": [],
   "source": [
    "# Write the code to count from 1 to 10\n",
    "# Your code should output: 1, 2, 3, ..., 10.\n",
    "# Copy and paste the code from above and be careful about the syntax!\n"
   ]
  },
  {
   "cell_type": "code",
   "execution_count": null,
   "metadata": {
    "collapsed": true
   },
   "outputs": [],
   "source": [
    "# Write the code to count from 2 to 20 by 2\n",
    "# Your code should ouput:  2, 4, 6, ..., 20.\n",
    "\n"
   ]
  },
  {
   "cell_type": "code",
   "execution_count": null,
   "metadata": {
    "collapsed": true
   },
   "outputs": [],
   "source": [
    "# Create your own loop to count as far as you want and by the step you want.\n"
   ]
  },
  {
   "cell_type": "markdown",
   "metadata": {},
   "source": [
    "## 3.2 Conditional statements and inequalities\n",
    "### 3.2.1 Conditions using equalities and inequalities\n",
    "\n",
    "Consider the numbers 1 to 10.\n",
    "\n",
    "Which numbers satisfy $x>5$?\n",
    "\n",
    "Which numbers satisfy $x<5$? \n",
    "\n",
    "In computing, $(x<5)$ and $(x>5)$ \n",
    "are called conditions :-).\n",
    "\n",
    "Another condition is $(x==5)$ which is only satisfied if $x=5$.\n"
   ]
  },
  {
   "cell_type": "markdown",
   "metadata": {},
   "source": [
    "### 3.2.2 Basic conditional statements"
   ]
  },
  {
   "cell_type": "code",
   "execution_count": null,
   "metadata": {},
   "outputs": [],
   "source": [
    "# Guess my number game\n",
    "# Add comments to document your understanding.\n",
    "# - Run the code and enter 6. Observe what happens.\n",
    "# - Run the code and enter 5. Observe what happens.\n",
    "\n",
    "# Note that int() converts it to an integer.\n",
    "# int(1.1) gives 1 so that spaces are removed :-).\n",
    "number = int(input(\" Input your number \"))\n",
    "secret_number = 5\n",
    "if (number == secret_number):\n",
    "    print(\"You guessed it!\")\n",
    "    print(\"You win.\")\n",
    "else:\n",
    "    print(\"You did not guess it correctly!\")\n",
    "    print(\"I win!\")\n",
    "    \n",
    "print(\"End of the game!\")"
   ]
  },
  {
   "cell_type": "markdown",
   "metadata": {},
   "source": [
    "We want to program computers to execute different code based on their input.\n",
    "\n",
    "To make the computers do that, we use the if-statement.\n",
    "\n",
    "Consider the following code:\n",
    "\n",
    "        Code1        \n",
    "        if (condition)\n",
    "           Code2a\n",
    "        else:\n",
    "           Code2b           \n",
    "        Code3\n",
    "\n",
    "Two different cases need to be considered.\n",
    "\n",
    "Based on the example above, add comments that identify:\n",
    "\n",
    "    Code1, Code2a, Code2b, and Code3\n",
    "\n",
    "What was the condition that was checked?\n",
    "\n",
    "<h3>Study the code above and make the connections to the following cases:</h3>\n",
    "\n",
    "<strong>Case 1.</strong> Condition is satisfied after Code1 is executed.<br>\n",
    "Computer executes:\n",
    "\n",
    "        Code1\n",
    "        Evaluate condition\n",
    "        Code2a\n",
    "        Code3\n",
    "\n",
    "<strong>Case 2.</strong> Condition is NOT satisfied after Code1 is done.<br>\n",
    "Computer executes:\n",
    "\n",
    "        Code1\n",
    "        Evaluate condition\n",
    "        Code2b\n",
    "        Code3"
   ]
  },
  {
   "cell_type": "markdown",
   "metadata": {},
   "source": [
    "### 3.2.3 Complex conditional statements"
   ]
  },
  {
   "cell_type": "code",
   "execution_count": null,
   "metadata": {},
   "outputs": [],
   "source": [
    "# Run the code below by entering:\n",
    "#   6, 4, and 5.\n",
    "# Carefully observe which message is printed.\n",
    "#\n",
    "# Change the 3 messages to help the user.\n",
    "\n",
    "number = int(input(\" Input your number \"))\n",
    "secret_number = 5\n",
    "\n",
    "if (secret_number > number):\n",
    "    print(\"Your guess is ... I\") # FIX the message\n",
    "elif (secret_number < number):\n",
    "    print(\"Your guess is ... II\") # FIX the message\n",
    "else:\n",
    "    print(\"Your guess is ... III\") # FIX the message\n",
    "\n",
    "print(\" \")\n",
    "print(\"End of game\")"
   ]
  },
  {
   "cell_type": "markdown",
   "metadata": {},
   "source": [
    "A more complicated conditional statement is:\n",
    "\n",
    "    Code1\n",
    "    if (condition 1)\n",
    "      Code2a\n",
    "    elif (condition 2)\n",
    "      Code2b\n",
    "    else\n",
    "      Code2c\n",
    "    Code3\n",
    "    \n",
    "We need to consider three cases.\n",
    "\n",
    "Look at the code above and identify:\n",
    "\n",
    "     Code1, Code2a, Code2b, Code2c, and Code 3.\n",
    "\n",
    "What are conditions 1, 2a, 2b, 2c, and 3?<br>\n",
    "Which numbers satisfy conditions 1, 2, and 3?<br>\n",
    "\n",
    "We have the following execution cases.<br>\n",
    "<h3>Can you identify the following cases?</h3>\n",
    "\n",
    "\n",
    "\n",
    "<strong>Case 1.</strong> If condition 1 is satisfied after Code1.</br>\n",
    "Computer executes:\n",
    "    \n",
    "    Code1\n",
    "    Evaluate condition 1\n",
    "    Code2a\n",
    "    Code3\n",
    "    \n",
    "<strong>Case 2.</strong> If condition is is NOT satisfied after Code1.</br>\n",
    "The computer will then check condition 2. Assume that condition 2 is satisfied.<br>\n",
    "Computer executes:<br>\n",
    "\n",
    "    Code1\n",
    "    Evaluate condition 1\n",
    "    Evaluate condition 2\n",
    "    Code2b\n",
    "    Code3\n",
    "    \n",
    "<strong>Case 3.</strong> Neither condition 1 nor 2 is satisfied.</br>\n",
    "Computer executes:<br>\n",
    "\n",
    "    Code1\n",
    "    Evaluate condition 1\n",
    "    Evaluate condition 2\n",
    "    Code2c\n",
    "    Code3\n",
    "    \n",
    "We will try to demonstrate this below."
   ]
  },
  {
   "cell_type": "markdown",
   "metadata": {},
   "source": [
    "## 3.3 Guess a random number game"
   ]
  },
  {
   "cell_type": "markdown",
   "metadata": {},
   "source": [
    "### 3.3.1 Random numbers"
   ]
  },
  {
   "cell_type": "code",
   "execution_count": null,
   "metadata": {},
   "outputs": [],
   "source": [
    "# Get the Random library\n",
    "# Note that all computer games relie on random numbers! \n",
    "# Can you see how?\n",
    "# Run the code multiple times\n",
    "# What do you observe?\n",
    "from random import *\n",
    "print(randint(1, 10)) # Pick a random number between 1 and 10."
   ]
  },
  {
   "cell_type": "markdown",
   "metadata": {},
   "source": [
    "### 3.3.2 A while loop that can guess a random number"
   ]
  },
  {
   "cell_type": "code",
   "execution_count": null,
   "metadata": {},
   "outputs": [],
   "source": [
    "# Examine the code:\n",
    "\n",
    "from random import *\n",
    "secret_number = randint(1, 10) # generate a random number between 1 and 10\n",
    "\n",
    "computer_guess_number = 1\n",
    "while (computer_guess_number != secret_number):\n",
    "    print(\"I tried \"+str(computer_guess_number))\n",
    "    computer_guess_number = computer_guess_number + 1  \n",
    "\n",
    "print(\"I guessed it!\")\n",
    "print(\"The random number is \"+str(computer_guess_number))"
   ]
  },
  {
   "cell_type": "markdown",
   "metadata": {},
   "source": [
    "While loops repeat code until a condition is met.\n",
    "    \n",
    "Their format is:\n",
    "\n",
    "    Code1\n",
    "    while (condition):\n",
    "        Code2\n",
    "    Code3\n",
    "    \n",
    "<h3>Identify Code1, Code2, and Code3 in the example above.</h3>    \n",
    "    \n",
    "We consider two cases.\n",
    "\n",
    "<strong>Case 1.</strong> The condition is satisfied after Code1.<br>\n",
    "The computer executes:\n",
    "\n",
    "    Code1\n",
    "    Evaluate condition\n",
    "    Code2\n",
    "    Evaluate condition\n",
    "    Code2\n",
    "    :\n",
    "    ... until the condition FAILS \n",
    "    Code3\n",
    "    \n",
    "<strong>Case 2.</strong> The condition is NOT satisfied after Code1.<br>\n",
    "The computer simply executes:\n",
    "    \n",
    "    Code1\n",
    "    Evaluate condition\n",
    "    Code3"
   ]
  },
  {
   "cell_type": "markdown",
   "metadata": {
    "collapsed": true
   },
   "source": [
    "## Main Activitity: Guess a random number with hints\n",
    "\n",
    "Write a game that asks the user to guess a random number.<br>\n",
    "Then, give the user a hint if the number is high or low.<br>\n",
    "When the right number is found, print a success message.<br>"
   ]
  },
  {
   "cell_type": "code",
   "execution_count": null,
   "metadata": {
    "collapsed": true
   },
   "outputs": [],
   "source": []
  }
 ],
 "metadata": {
  "kernelspec": {
   "display_name": "Python 3",
   "language": "python",
   "name": "python3"
  },
  "language_info": {
   "codemirror_mode": {
    "name": "ipython",
    "version": 3
   },
   "file_extension": ".py",
   "mimetype": "text/x-python",
   "name": "python",
   "nbconvert_exporter": "python",
   "pygments_lexer": "ipython3",
   "version": "3.6.3"
  }
 },
 "nbformat": 4,
 "nbformat_minor": 2
}
