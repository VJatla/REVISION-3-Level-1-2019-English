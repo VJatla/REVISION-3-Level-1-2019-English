{
 "cells": [
  {
   "cell_type": "markdown",
   "metadata": {},
   "source": [
    "# Help AOLME Get Home\n",
    "\n",
    "AOLME needs to go home by following the arrows.<br>\n",
    "Can you help her by modifying the code below?"
   ]
  },
  {
   "cell_type": "code",
   "execution_count": 11,
   "metadata": {},
   "outputs": [],
   "source": [
    "# Study the code below and modify when done.\n",
    "from AOLME_game import *\n",
    "\n",
    "# Display video outside.\n",
    "%matplotlib qt5\n",
    "\n",
    "# Modify the commands below\n",
    "scene.block_move_sprite_down('aolme')\n",
    "scene.block_move_sprite_right('aolme')\n",
    "scene.block_move_sprite_up('aolme')\n",
    "scene.block_move_sprite_left('aolme')\n",
    "\n",
    "# Display your solution\n",
    "show = scene.play_game()"
   ]
  }
 ],
 "metadata": {
  "kernelspec": {
   "display_name": "Python 3",
   "language": "python",
   "name": "python3"
  },
  "language_info": {
   "codemirror_mode": {
    "name": "ipython",
    "version": 3
   },
   "file_extension": ".py",
   "mimetype": "text/x-python",
   "name": "python",
   "nbconvert_exporter": "python",
   "pygments_lexer": "ipython3",
   "version": "3.6.3"
  }
 },
 "nbformat": 4,
 "nbformat_minor": 2
}
