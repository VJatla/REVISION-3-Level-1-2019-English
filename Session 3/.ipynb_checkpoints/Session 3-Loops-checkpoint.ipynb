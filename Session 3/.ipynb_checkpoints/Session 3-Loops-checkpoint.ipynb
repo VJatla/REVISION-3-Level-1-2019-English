{
 "cells": [
  {
   "cell_type": "markdown",
   "metadata": {},
   "source": [
    "# Session 3: Loops, Conditionals, and Sequential Thinking\n"
   ]
  },
  {
   "cell_type": "markdown",
   "metadata": {},
   "source": [
    "# 3.1. <u> Using for Loops to Create Number Sequences <u/>\n",
    "\n",
    "Use card 3.1. for this section.\n",
    "\n",
    "## TASK 1- Open this File (done already)\n",
    "## TASK 2: Run & Analyze CELLs below"
   ]
  },
  {
   "cell_type": "code",
   "execution_count": 4,
   "metadata": {},
   "outputs": [
    {
     "name": "stdout",
     "output_type": "stream",
     "text": [
      "13\n",
      "20\n"
     ]
    }
   ],
   "source": [
    "# CELL A: Increasing a variable example\n",
    "#  1. Run the code and see what happens.\n",
    "#  2. Change the line i=3 and see what happens.\n",
    "#  3. Change the line i=i+2 and see what happens.\n",
    "\n",
    "i = 13\n",
    "print(i)\n",
    "\n",
    "# Note special example:\n",
    "#     i = i + 2\n",
    "# In regular algebra, this is IMPOSSIBLE. Why?\n",
    "# However, the computer will process this fine!\n",
    "#  1. It processes the right-hand-side first.\n",
    "#  2. Then it assigns the result to i (the left-hand-side)\n",
    "# What happened here?\n",
    "\n",
    "i = i + 7\n",
    "print(i)"
   ]
  },
  {
   "cell_type": "code",
   "execution_count": 1,
   "metadata": {},
   "outputs": [
    {
     "name": "stdout",
     "output_type": "stream",
     "text": [
      "1\n",
      "2\n",
      "3\n"
     ]
    }
   ],
   "source": [
    "# CELL B: This example shows a repearing code.\n",
    "# Can you see which code is repeated?\n",
    "\n",
    "# Work through this code line-by-line\n",
    "# 1. Change start_i to see what happens.\n",
    "# 2. Change step_i  to see what happens.\n",
    "\n",
    "start_i = 1\n",
    "step_i  = 1\n",
    "\n",
    "i = start_i\n",
    "print(i)\n",
    "\n",
    "i = i + step_i # increases i\n",
    "print(i)\n",
    "\n",
    "i = i + step_i # increases i\n",
    "print(i)"
   ]
  },
  {
   "cell_type": "code",
   "execution_count": 3,
   "metadata": {},
   "outputs": [
    {
     "name": "stdout",
     "output_type": "stream",
     "text": [
      "1\n",
      "2\n",
      "3\n"
     ]
    }
   ],
   "source": [
    "# CELL C: for loop\n",
    "# 1. Run the code below and see what happens.\n",
    "# 2. Compare the results with the previous statement.\n",
    "# 3. Which variables control the loop?\n",
    "\n",
    "# Note the special syntax for for:\n",
    "# - NO empty space at the begining of a line.\n",
    "# - Note the range() command that generates 1, 2, 3.\n",
    "# - The for-loop ends with  :\n",
    "# - After the for-loop, you must have some leading space for the repeating code.\n",
    "# - ALL of the code INSIDE the for-loop must START at the same position.\n",
    "\n",
    "start_i = 1\n",
    "step_i  = 1\n",
    "\n",
    "# Stop at 4. \n",
    "stop_i  = 4\n",
    "\n",
    "for i in range(start_i, stop_i, step_i):\n",
    "    print(i)\n",
    "    # The COMMENT starts at the same position as print(i)\n",
    "    # Everything inside the loop starts at the SAME position."
   ]
  },
  {
   "cell_type": "markdown",
   "metadata": {},
   "source": [
    "## TASK 3: Think and Create in Practice CELLs below"
   ]
  },
  {
   "cell_type": "code",
   "execution_count": null,
   "metadata": {
    "collapsed": true
   },
   "outputs": [],
   "source": [
    "# PRACTICE CELL A: Write the code to count from 1 to 10\n",
    "# Your code should output: 1, 2, 3, ..., 10.\n",
    "# Use the code above as a guide to create your commands. Be careful about what you type or the syntax!\n",
    "\n"
   ]
  },
  {
   "cell_type": "code",
   "execution_count": 5,
   "metadata": {},
   "outputs": [
    {
     "name": "stdout",
     "output_type": "stream",
     "text": [
      "2\n",
      "3\n",
      "4\n",
      "5\n",
      "6\n",
      "7\n",
      "8\n",
      "9\n",
      "10\n",
      "11\n",
      "12\n"
     ]
    }
   ],
   "source": [
    "# CELL C: for loop\n",
    "# 1. Run the code below and see what happens.\n",
    "# 2. Compare the results with the previous statement.\n",
    "# 3. Which variables control the loop?\n",
    "\n",
    "# Note the special syntax for for:\n",
    "# - NO empty space at the begining of a line.\n",
    "# - Note the range() command that generates 1, 2, 3.\n",
    "# - The for-loop ends with  :\n",
    "# - After the for-loop, you must have some leading space for the repeating code.\n",
    "# - ALL of the code INSIDE the for-loop must START at the same position.\n",
    "\n",
    "start_i = 2\n",
    "step_i  = 1\n",
    "\n",
    "# Stop at 4. \n",
    "stop_i  = 13\n",
    "\n",
    "for i in range(start_i, stop_i, step_i):\n",
    "    print(i)\n",
    "    # The COMMENT starts at the same position as print(i)\n",
    "    # Everything inside the loop starts at the SAME position."
   ]
  },
  {
   "cell_type": "code",
   "execution_count": null,
   "metadata": {
    "collapsed": true
   },
   "outputs": [],
   "source": [
    "# PRACTICE CELL B: Write the code to count from 2 to 20 by 2\n",
    "# Your code should ouput:  2, 4, 6, ..., 20.\n",
    "\n"
   ]
  },
  {
   "cell_type": "code",
   "execution_count": null,
   "metadata": {
    "collapsed": true
   },
   "outputs": [],
   "source": [
    "# PRACTICE CELL C: Create your own loop to count as far as you want and by the step you want.\n"
   ]
  },
  {
   "cell_type": "markdown",
   "metadata": {
    "collapsed": true
   },
   "source": [
    "# 3.2 <u> Guessing Numbers Game: Using Loops and Conditionals <u/> \n",
    "\n",
    "Use card 3.2. for this section.\n",
    "\n",
    "Write a game that asks the user to guess a random number.<br>\n",
    "Then, give the user a hint if the number is high or low.<br>\n",
    "When the right number is found, print a success message.<br>\n",
    "To write the code for this game, follow the examples below!"
   ]
  },
  {
   "cell_type": "code",
   "execution_count": 2,
   "metadata": {},
   "outputs": [
    {
     "name": "stdout",
     "output_type": "stream",
     "text": [
      " Input your number 5\n",
      "You guessed it!\n",
      "You win.\n",
      "End of the game!\n"
     ]
    }
   ],
   "source": [
    "# CELL A: Simple if statement.\n",
    "# 1. Run the code and enter 6. Observe what happens.\n",
    "# 2. Repeat for different numbers.\n",
    "# 3. Replace the ??? with your text.\n",
    "\n",
    "# Note that int() converts it to an integer.\n",
    "# int(1.1) gives 1 so that spaces are removed :-).\n",
    "number = int(input(\" Input your number \"))\n",
    "secret_number = 5\n",
    "if (number == secret_number):\n",
    "    # Which number(s) will execute the code below?\n",
    "    # For number=???, the following code works:\n",
    "    print(\"You guessed it!\")\n",
    "    print(\"You win.\")\n",
    "else:\n",
    "    # Which number(s) will execute the code below?\n",
    "    # For number=???, the following code works.\n",
    "    print(\"You did not guess it correctly!\")\n",
    "    print(\"I win!\")\n",
    "    \n",
    "print(\"End of the game!\")"
   ]
  },
  {
   "cell_type": "code",
   "execution_count": null,
   "metadata": {
    "collapsed": true
   },
   "outputs": [],
   "source": [
    "# CELL B: Complex if statement.\n",
    "# 1. Run the code with 6 first, then with 5, and the different numbers.\n",
    "# 2. FIX messages I, II, III to help the guessing.\n",
    "# 3. Replace ??? with your text.\n",
    "\n",
    "number = int(input(\" Input your number \"))\n",
    "secret_number = 5\n",
    "\n",
    "if (secret_number > number):\n",
    "    # Which number(s) will execute the code below?\n",
    "    # For number=???, the following code works.\n",
    "    print(\"Your guess is ... I\") # FIX the message\n",
    "elif (secret_number < number):\n",
    "    # Which number(s) will execute the code below?\n",
    "    # For number=???, the following code works.\n",
    "    print(\"Your guess is ... II\") # FIX the message\n",
    "else:\n",
    "    # Which number(s) will execute the code below?\n",
    "    # For number=???, the following code works.    \n",
    "    print(\"Your guess is ... III\") # FIX the message\n",
    "\n",
    "print(\" \")\n",
    "print(\"End of game\")"
   ]
  },
  {
   "cell_type": "code",
   "execution_count": 6,
   "metadata": {},
   "outputs": [
    {
     "name": "stdout",
     "output_type": "stream",
     "text": [
      "5\n"
     ]
    }
   ],
   "source": [
    "# CELL C: Random number example:\n",
    "# 1. Run the code multiple times.\n",
    "# 2. Fill-in the comment with ??? when done.\n",
    "from random import *\n",
    "print(randint(1, 10)) # The code generates the numbers ????"
   ]
  },
  {
   "cell_type": "code",
   "execution_count": 7,
   "metadata": {},
   "outputs": [
    {
     "name": "stdout",
     "output_type": "stream",
     "text": [
      "I guessed it!\n",
      "The random number is 1\n"
     ]
    }
   ],
   "source": [
    "# CELL D: While loop example:\n",
    "# 1. Run the code multiple times.\n",
    "# 2. Replace the ??? with your understanding of the code.\n",
    "\n",
    "from random import *\n",
    "secret_number = randint(1, 10) # generates the numbers ???\n",
    "\n",
    "computer_guess_number = 1\n",
    "# We execute the code inside the loop when ???\n",
    "while (computer_guess_number != secret_number):\n",
    "    # We are inside the loop when ???\n",
    "    print(\"I tried \"+str(computer_guess_number))\n",
    "    computer_guess_number = computer_guess_number + 1  \n",
    "\n",
    "# We exit the loop when ???\n",
    "\n",
    "\n",
    "print(\"I guessed it!\")\n",
    "print(\"The random number is \"+str(computer_guess_number))"
   ]
  },
  {
   "cell_type": "markdown",
   "metadata": {
    "collapsed": true
   },
   "source": [
    "Based on the examples above, you can write all of the remaining code for the game!\n",
    "\n",
    "<strong>Hint: You need to use while and if.</strong>"
   ]
  },
  {
   "cell_type": "code",
   "execution_count": null,
   "metadata": {
    "collapsed": true
   },
   "outputs": [],
   "source": [
    "# CELL E: Game template\n",
    "# 1. Write the code for the computer to generate a random number.\n",
    "from random import *\n",
    "secret_number = randint(1, 10) # generates the secret number\n",
    "\n",
    "# 2. Use input() to enter a guess\n",
    "print(\"Can you guess the random number?\")\n",
    "number = input(\"Enter your guess: \")\n",
    "\n",
    "# 3. Add an if-statement to help the users\n",
    "#    with the search for the right number.\n",
    "\n",
    "\n",
    "# 4. Introduce a while loop that continues until they guess the random number.\n",
    "while (number != secret_number):\n",
    "    # 4.1. Input the number from the user.\n",
    "    # 4.2. Print a message about their number.\n",
    "    "
   ]
  }
 ],
 "metadata": {
  "kernelspec": {
   "display_name": "Python 3",
   "language": "python",
   "name": "python3"
  },
  "language_info": {
   "codemirror_mode": {
    "name": "ipython",
    "version": 3
   },
   "file_extension": ".py",
   "mimetype": "text/x-python",
   "name": "python",
   "nbconvert_exporter": "python",
   "pygments_lexer": "ipython3",
   "version": "3.6.3"
  }
 },
 "nbformat": 4,
 "nbformat_minor": 2
}
