{
 "cells": [
  {
   "cell_type": "markdown",
   "metadata": {},
   "source": [
    "# Session 3: Loops, Conditionals, and Sequential Thinking\n"
   ]
  },
  {
   "cell_type": "markdown",
   "metadata": {},
   "source": [
    "# 3.1. <u> Using for Loops to Create Number Sequences <u/>\n",
    "\n",
    "Use card 3.1. for this section.\n",
    "\n",
    "## TASK 1- Open this File (done already)\n",
    "## TASK 2: Run & Analyze CELLs below\n",
    "In CELLS A, B, and C first run the code.<br/>\n",
    "Then change the variables to see what happens.<br/>\n",
    "Talk in your group about what happens and why."
   ]
  },
  {
   "cell_type": "code",
   "execution_count": 1,
   "metadata": {},
   "outputs": [
    {
     "name": "stdout",
     "output_type": "stream",
     "text": [
      "1\n",
      "2\n"
     ]
    }
   ],
   "source": [
    "# CELL A: Let's increase the value of a variable:\n",
    "# 1. What happened? \n",
    "# 2. Now, see this example:\n",
    "#     i = i + 1\n",
    "# In algebra, this is IMPOSSIBLE, but the computer processes it just fine!\n",
    "#  How are the values on the left related to the ones on the right?\n",
    "# Change values and predict what will happen\n",
    "\n",
    "i = 1       # Take turns chaging 1\n",
    "print(i)\n",
    "i = i + 1   \n",
    "print(i)"
   ]
  },
  {
   "cell_type": "code",
   "execution_count": 2,
   "metadata": {},
   "outputs": [
    {
     "name": "stdout",
     "output_type": "stream",
     "text": [
      "1\n",
      "2\n",
      "3\n"
     ]
    }
   ],
   "source": [
    "# CELL B: This example shows a code that repeats. \n",
    "# What repeats?\n",
    "# Check this code line-by-line\n",
    "# 1. Change start_i to see what happens.\n",
    "# 2. Change step_i  to see what happens.\n",
    "\n",
    "start_i = 1   \n",
    "step_i  = 1  \n",
    "\n",
    "i = start_i   \n",
    "print(i)     \n",
    "i = i + step_i # increases i\n",
    "print(i)\n",
    "i = i + step_i # increases i\n",
    "print(i)"
   ]
  },
  {
   "cell_type": "code",
   "execution_count": null,
   "metadata": {},
   "outputs": [],
   "source": [
    "# CELL C: Let's count using loop\n",
    "# 1. Run the code below and see what happens.\n",
    "# 2. Compare results here with the previous cell.\n",
    "# 3. Which variables do you see in the loop?\n",
    "# 4. How do the variables change the loop?\n",
    "\n",
    "# Note the special syntax of codes for for:\n",
    "# - NO empty space at the begining of a line.\n",
    "# - Note the range() command that generates 1, 2, 3.\n",
    "# - The for-loop ends with  :\n",
    "# - After the for-loop, you must have some leading space for the repeating code.\n",
    "# - ALL of the code INSIDE the for-loop must START at the same position.\n",
    "\n",
    "start_i = 1   # Define initial value. Value to start counting. \n",
    "step_i  = 1   # Define the value to count by (or add) after the initial value.\n",
    "stop_i  = 4   # Define value to Stop.\n",
    "\n",
    "# for is a loop command:\n",
    "for i in range(start_i, stop_i, step_i):\n",
    "    print(i)\n",
    "    # print (i) needs to have space before writing it or be indented.\n",
    "    # All lines in the loop start at the SAME position."
   ]
  },
  {
   "cell_type": "markdown",
   "metadata": {},
   "source": [
    "## TASK 3: Think and Create in Practice CELLs below"
   ]
  },
  {
   "cell_type": "code",
   "execution_count": null,
   "metadata": {},
   "outputs": [],
   "source": [
    "# PRACTICE CELL A: Write the code to count from 1 to 10\n",
    "# Your code should output: 1, 2, 3, ..., 10.\n",
    "# Use the code above as a guide to create your commands. Be careful about what you type or the syntax!\n",
    "\n"
   ]
  },
  {
   "cell_type": "code",
   "execution_count": null,
   "metadata": {},
   "outputs": [],
   "source": [
    "# CELL C: for loop\n",
    "# 1. Run the code below and see what happens.\n",
    "# 2. Compare the results with the previous statement.\n",
    "# 3. Which variables control the loop?\n",
    "\n",
    "# Note the special syntax for for:\n",
    "# - NO empty space at the begining of a line.\n",
    "# - Note the range() command that generates 1, 2, 3.\n",
    "# - The for-loop ends with  :\n",
    "# - After the for-loop, you must have some leading space for the repeating code.\n",
    "# - ALL of the code INSIDE the for-loop must START at the same position.\n",
    "\n",
    "start_i = 2\n",
    "step_i  = 1 \n",
    "stop_i  = 13\n",
    "for i in range(start_i, stop_i, step_i):\n",
    "    print(i)\n",
    "    # NOTE where the # appears! "
   ]
  },
  {
   "cell_type": "code",
   "execution_count": null,
   "metadata": {},
   "outputs": [],
   "source": [
    "# PRACTICE CELL B: Write the code to count from 2 to 20 by 2\n",
    "# Your code should ouput:  2, 4, 6, ..., 20.\n",
    "\n"
   ]
  },
  {
   "cell_type": "code",
   "execution_count": null,
   "metadata": {},
   "outputs": [],
   "source": [
    "# PRACTICE CELL C: Create your own loop to count as far as you want and by the step you want.\n"
   ]
  },
  {
   "cell_type": "markdown",
   "metadata": {
    "collapsed": true
   },
   "source": [
    "# 3.2 <u> Guessing Numbers Game: Using Loops and Conditionals <u/> \n",
    "\n",
    "Use card 3.2. for this section.\n",
    "\n",
    "To write your game: you ask the player to guess a random number.<br>\n",
    "Then, give the player a hint if the number is high or low.<br>\n",
    "When the right number is found, print a success message.<br>\n",
    "To write the code for this game, follow the examples below!"
   ]
  },
  {
   "cell_type": "code",
   "execution_count": null,
   "metadata": {},
   "outputs": [],
   "source": [
    "# CELL A: Simple conditional, if statement.\n",
    "# 1. Run the code and enter 6. Observe what happens.\n",
    "# 2. Repeat trying out different numbers.\n",
    "\n",
    "# Note that int() converts it to an integer.\n",
    "# int(1.1) gives 1 so that spaces are removed :-).\n",
    "number = int(input(\" Input your number \"))\n",
    "secret_number = 5\n",
    "if (number == secret_number):\n",
    "    # Which number(s) will execute the code below?\n",
    "    print(\"You guessed it!\")\n",
    "    print(\"You win.\")\n",
    "else:\n",
    "    # Which number(s) will execute the code below?\n",
    "    print(\"You did not guess it correctly!\")\n",
    "    print(\"I win!\")\n",
    "print(\"End of the game!\")"
   ]
  },
  {
   "cell_type": "code",
   "execution_count": null,
   "metadata": {},
   "outputs": [],
   "source": [
    "# CELL B: Complex if statement.\n",
    "# 1. Run the code with 6 first, then with 5, and the different numbers.\n",
    "# 2. FIX messages I, II, III to help the guessing.\n",
    "# 3. Replace ??? with your text.\n",
    "\n",
    "number = int(input(\" Input your number \"))\n",
    "secret_number = 5\n",
    "if (secret_number > number):\n",
    "    # Number(s)=??? will execute the code below.\n",
    "    print(\"Your guess is ... I\") # FIX the message\n",
    "elif (secret_number < number):\n",
    "    # Number(s)=??? will execute the code below.\n",
    "    print(\"Your guess is ... II\") # FIX the message\n",
    "else:\n",
    "    # Number(s)=??? will execute the code below.\n",
    "    print(\"Your guess is ... III\") # FIX the message\n",
    "print(\"End of game\")"
   ]
  },
  {
   "cell_type": "markdown",
   "metadata": {},
   "source": [
    "## TASK 3 of Card 3.2"
   ]
  },
  {
   "cell_type": "code",
   "execution_count": 7,
   "metadata": {},
   "outputs": [],
   "source": [
    "# TASK 3.A of card 3.2\n",
    "while(0):\n",
    "    print(1)"
   ]
  },
  {
   "cell_type": "code",
   "execution_count": 7,
   "metadata": {},
   "outputs": [],
   "source": [
    "# TASK 3.B of card 3.2\n",
    "while(1==2):\n",
    "    print(1)"
   ]
  },
  {
   "cell_type": "code",
   "execution_count": 10,
   "metadata": {},
   "outputs": [
    {
     "name": "stdout",
     "output_type": "stream",
     "text": [
      "9\n"
     ]
    }
   ],
   "source": [
    "# CELL C: Random number example:\n",
    "# 1. Select this Cell and Run the code multiple times.\n",
    "# 2. What changes?\n",
    "# 3. Now, change the 1 and/or the 10. What happens? why?\n",
    "from random import *  # This command means get everything (*) from the file (random) \n",
    "print(randint(9, 10)) # randint() generates a random number within the range of numbers"
   ]
  },
  {
   "cell_type": "code",
   "execution_count": 6,
   "metadata": {},
   "outputs": [
    {
     "name": "stdout",
     "output_type": "stream",
     "text": [
      "I tried 1\n",
      "I tried 2\n",
      "I tried 3\n",
      "I tried 4\n",
      "I tried 5\n",
      "I tried 6\n",
      "I tried 7\n",
      "I tried 8\n",
      "I guessed it!\n",
      "The random number is 9\n"
     ]
    }
   ],
   "source": [
    "# CELL D: While loop example:\n",
    "# 1. Run the code multiple times.\n",
    "# 2. Replace the ??? with your understanding of the code.\n",
    "\n",
    "# TRUE  statements:  Roadrunner is a bird.\n",
    "# FALSE statements:  Roadrunner is a hunman.\n",
    "# 1 == 2 means check if 1 is the same as 2.  This statement is FALSE.\n",
    "# 1 != 2 means check if 1 is NOT the same as 2. This statement is TRUE.\n",
    "\n",
    "from random import *\n",
    "secret_number = randint(1, 10) # generates the numbers ???\n",
    "\n",
    "computer_guesses_number = 1 \n",
    "while (computer_guesses_number != secret_number):  # if \"!=\" means NOT EQUAL TO. How is while linked to !=?  \n",
    "    print(\"I tried \"+str(computer_guesses_number))\n",
    "    computer_guesses_number = computer_guesses_number + 1   \n",
    "\n",
    "# When will the loop stop?\n",
    "print(\"I guessed it!\")\n",
    "print(\"The random number is \"+str(computer_guesses_number))"
   ]
  },
  {
   "cell_type": "markdown",
   "metadata": {
    "collapsed": true
   },
   "source": [
    "Based on the examples above, you can write all of the remaining code for the game!\n",
    "\n",
    "<strong>Hint: You need to use while and if.</strong>"
   ]
  },
  {
   "cell_type": "code",
   "execution_count": null,
   "metadata": {},
   "outputs": [],
   "source": [
    "# CELL E: Game template\n",
    "# 1. Write the code for the computer to generate a random number.\n",
    "from random import *\n",
    "secret_number = randint(1, 10) # generates the secret number\n",
    "\n",
    "# 2. Use input() to enter a guess\n",
    "print(\"Can you guess the random number?\")\n",
    "number = int(input(\"Enter your guess: \"))\n",
    "\n",
    "# 3. Add an if-statement to help the users\n",
    "#    with the search for the right number.\n",
    "\n",
    "\n",
    "# 4. Introduce a while loop that continues until they guess the random number.\n",
    "while (number != secret_number):\n",
    "    # 4.1. Input the number from the user.\n",
    "    # 4.2. Print a message about their number.\n",
    "    "
   ]
  },
  {
   "cell_type": "code",
   "execution_count": null,
   "metadata": {},
   "outputs": [],
   "source": []
  },
  {
   "cell_type": "code",
   "execution_count": null,
   "metadata": {},
   "outputs": [],
   "source": []
  }
 ],
 "metadata": {
  "kernelspec": {
   "display_name": "Python 3",
   "language": "python",
   "name": "python3"
  },
  "language_info": {
   "codemirror_mode": {
    "name": "ipython",
    "version": 3
   },
   "file_extension": ".py",
   "mimetype": "text/x-python",
   "name": "python",
   "nbconvert_exporter": "python",
   "pygments_lexer": "ipython3",
   "version": "3.7.1"
  }
 },
 "nbformat": 4,
 "nbformat_minor": 2
}
