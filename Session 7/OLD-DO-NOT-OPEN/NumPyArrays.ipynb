{
 "cells": [
  {
   "cell_type": "markdown",
   "metadata": {},
   "source": [
    "## A. Change frames using row-by-row access"
   ]
  },
  {
   "cell_type": "code",
   "execution_count": 1,
   "metadata": {},
   "outputs": [
    {
     "name": "stdout",
     "output_type": "stream",
     "text": [
      "Numerical Python: Row-by-row access with two frames.\n",
      "frame_1= [['000000' '000000' '000000']\n",
      " ['000000' '000000' '000000']]\n",
      "frame_2= [['ffffff' '540000' 'ff0000']\n",
      " ['ff0000' '540000' 'ffffff']]\n",
      "Explain the differences between the two frames.\n",
      "Can you make the first row to be all white?\n"
     ]
    }
   ],
   "source": [
    "import numpy as np\n",
    "\n",
    "print(\"Numerical Python: Row-by-row access with two frames.\")\n",
    "b = \"000000\"  # black color\n",
    "cols = 3      \n",
    "rows = 2\n",
    "frame_1 = np.array([[b]*cols for row in range(rows)])\n",
    "\n",
    "# Use .copy() to create the second frame.\n",
    "frame_2 = frame_1.copy()\n",
    "\n",
    "# Define the colors\n",
    "w = \"ffffff\"\n",
    "lr = \"540000\"\n",
    "r = \"ff0000\"\n",
    "\n",
    "# Row-by-row access\n",
    "frame_2[0] = [w, lr, r]  \n",
    "frame_2[1] = [r, lr, w]\n",
    "\n",
    "print(\"frame_1=\", frame_1)\n",
    "print(\"frame_2=\", frame_2)\n",
    "print(\"Explain the differences between the two frames.\")\n",
    "print(\"Can you make the first row to be all white?\")"
   ]
  },
  {
   "cell_type": "markdown",
   "metadata": {},
   "source": [
    "## B. Change a single pixel between two frames"
   ]
  },
  {
   "cell_type": "code",
   "execution_count": 2,
   "metadata": {},
   "outputs": [
    {
     "name": "stdout",
     "output_type": "stream",
     "text": [
      "Numerical Python: Single element (pixel) access\n",
      "frame_1= [['000000' '000000' '000000']\n",
      " ['000000' '000000' '000000']]\n",
      "frame_2= [['ffffff' '000000' '000000']\n",
      " ['000000' '000000' '000000']]\n",
      "Explain the differences between the two frames.\n"
     ]
    }
   ],
   "source": [
    "import numpy as np\n",
    "\n",
    "print(\"Numerical Python: Single element (pixel) access\")\n",
    "b = \"000000\"  # black color\n",
    "cols = 3      \n",
    "rows = 2\n",
    "frame_1 = np.array([[b]*cols for row in range(rows)])\n",
    "\n",
    "# Make a copy for the second frame\n",
    "frame_2 = frame_1.copy()\n",
    "\n",
    "# Colors\n",
    "w = \"ffffff\"\n",
    "\n",
    "# Pixel access\n",
    "frame_2[0, 0] = w\n",
    "\n",
    "\n",
    "print(\"frame_1=\", frame_1)\n",
    "print(\"frame_2=\", frame_2)\n",
    "print(\"Explain the differences between the two frames.\")"
   ]
  },
  {
   "cell_type": "markdown",
   "metadata": {},
   "source": [
    "## C. Change a block of pixels between two frames"
   ]
  },
  {
   "cell_type": "code",
   "execution_count": 3,
   "metadata": {},
   "outputs": [
    {
     "name": "stdout",
     "output_type": "stream",
     "text": [
      "Numerical Python: block access\n",
      "frame_1= [['000000' '000000' '000000']\n",
      " ['000000' '000000' '000000']]\n",
      "frame_2= [['000000' 'ffffff' '000000']\n",
      " ['000000' '000000' '000000']]\n",
      "Explain the differences between the two frames.\n",
      "Note that we add +1 for the last row and last index.\n"
     ]
    }
   ],
   "source": [
    "import numpy as np\n",
    "\n",
    "print(\"Numerical Python: block access\")\n",
    "b = \"000000\"  # black color\n",
    "cols = 3      \n",
    "rows = 2\n",
    "frame_1 = np.array([[b]*cols for row in range(rows)])\n",
    "\n",
    "# Change a single pixel in the second frame:\n",
    "frame_2 = frame_1.copy()\n",
    "w = \"ffffff\"\n",
    "lr = \"540000\"\n",
    "r = \"ff0000\"\n",
    "\n",
    "# Block access\n",
    "frame_2[0:(0+1), 1:(1+1)] = w\n",
    "\n",
    "print(\"frame_1=\", frame_1)\n",
    "print(\"frame_2=\", frame_2)\n",
    "print(\"Explain the differences between the two frames.\")\n",
    "print(\"Note that we add +1 for the last row and last index.\")"
   ]
  },
  {
   "cell_type": "markdown",
   "metadata": {},
   "source": [
    "## D. Change a block of pixels using im_fill()"
   ]
  },
  {
   "cell_type": "code",
   "execution_count": 1,
   "metadata": {},
   "outputs": [
    {
     "name": "stdout",
     "output_type": "stream",
     "text": [
      "AOLME library: im_fill() command.\n",
      "frame_1= [['000000', '000000'], ['ff0000', 'ff0000'], ['ff0000', 'ff0000']]\n",
      "Explain how the block of pixels were set.\n",
      "What is the first row?\n",
      "What is the last row?\n",
      "What is the first column?\n",
      "What is the last column?\n"
     ]
    }
   ],
   "source": [
    "from AOLME import *\n",
    "\n",
    "print(\"AOLME library: im_fill() command.\")\n",
    "cols = 2\n",
    "rows = 3\n",
    "\n",
    "b = \"000000\"\n",
    "r = \"ff0000\"\n",
    "\n",
    "frame_1 = [[b]*cols for row in range(rows)]\n",
    "\n",
    "start_row = 1\n",
    "end_row   = 2\n",
    "start_col = 0\n",
    "end_col   = 1\n",
    "im_fill(frame_1, [start_row, end_row], [start_col, end_col], r) \n",
    "\n",
    "print(\"frame_1=\", frame_1)\n",
    "print(\"Explain how the block of pixels were set.\")\n",
    "print(\"What is the first row?\")\n",
    "print(\"What is the last row?\")\n",
    "print(\"What is the first column?\")\n",
    "print(\"What is the last column?\")"
   ]
  },
  {
   "cell_type": "code",
   "execution_count": null,
   "metadata": {
    "collapsed": true
   },
   "outputs": [],
   "source": []
  }
 ],
 "metadata": {
  "kernelspec": {
   "display_name": "Python 3",
   "language": "python",
   "name": "python3"
  },
  "language_info": {
   "codemirror_mode": {
    "name": "ipython",
    "version": 3
   },
   "file_extension": ".py",
   "mimetype": "text/x-python",
   "name": "python",
   "nbconvert_exporter": "python",
   "pygments_lexer": "ipython3",
   "version": "3.6.3"
  }
 },
 "nbformat": 4,
 "nbformat_minor": 2
}
