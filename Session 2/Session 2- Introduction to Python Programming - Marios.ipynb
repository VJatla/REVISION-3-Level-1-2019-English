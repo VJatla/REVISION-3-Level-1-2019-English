{
 "cells": [
  {
   "cell_type": "markdown",
   "metadata": {},
   "source": [
    "# Session 2-Introduction to Python Programming\n",
    "# 2.1. <u>Exploring Programming with Python <u/>\n",
    "Use card 2.1. for this section.\n",
    "## TASK 1: You accessed a file and explored the Jupyter's taskbar.\n",
    "## TASK 2: Now, let's Play the Guessing Game\n",
    "Explore Python Programming through the guessing game. The code <b>Below</b> makes the game work. <i>Play</i> the game by entering the information needed in the space at the bottom of the code of the game."
   ]
  },
  {
   "cell_type": "code",
   "execution_count": null,
   "metadata": {
    "collapsed": true
   },
   "outputs": [],
   "source": [
    "# Here is the Guessing Game. This is just an example.\n",
    "# We are going to review and understand all pieces of this code by the end of the session.\n",
    "\n",
    "name = input(\"What is your name? \")\n",
    "hi   = \"Hello \" + name + \"!\" # What do you think the Addition signs do?\n",
    "print(hi)\n",
    "print(\" \") # prints an empty line\n",
    "print(\"Let us play a game!\")\n",
    "\n",
    "# Recall inverse operations\n",
    "msg = \"Think of a number but do not tell me! Press Enter when done.\"\n",
    "wait = input(msg)                           # x\n",
    "wait = input(\"Multiply by 2 and hit enter\") # 2*x\n",
    "wait = input(\"Add 3 and hit enter\")         # 2*x + 3\n",
    "\n",
    "print(\" \")\n",
    "s = input(\"Give me the result from this operation : \")  # 2*x + 3\n",
    "print(\" \")\n",
    "\n",
    "# Apply inverse operations:\n",
    "y  = int(s) # Convert from a string to a number.\n",
    "x1 = y - 3  # (2*x + 3) - 3 = 2*x\n",
    "x2 = x1/2   # (2*x)/2 = x\n",
    "\n",
    "# Message\n",
    "msg = \"Your number is \"+str(x2) # str(x2) makes it into a number.\n",
    "print(msg)\n",
    "msg = \"Aren't you impressed \"+name+\" :-)\"\n",
    "print(msg)"
   ]
  },
  {
   "cell_type": "markdown",
   "metadata": {},
   "source": [
    "## TASK 3: Assignments and 'print' Commands \n",
    "The examples in the 3 cells (A, B, C) below will help us learn the <b>print<b/>  command. "
   ]
  },
  {
   "cell_type": "code",
   "execution_count": 1,
   "metadata": {
    "scrolled": true
   },
   "outputs": [
    {
     "name": "stdout",
     "output_type": "stream",
     "text": [
      "5\n"
     ]
    }
   ],
   "source": [
    "# CELL A: When you type \"#\" at the begining of a line, it creates a COMMENT.\n",
    "# The computer does not process comments.\n",
    "# USE COMMENTS TO DESCRIBE WHAT YOU NOTICE.\n",
    "# Computers process code in order, line by line. See below:\n",
    "x = 5     \n",
    "print(x)\n",
    "\n",
    "# While in this cell, click on the play button and run the code. What happens?\n",
    "# After running this code, clear cell and print other numbers."
   ]
  },
  {
   "cell_type": "code",
   "execution_count": 7,
   "metadata": {},
   "outputs": [
    {
     "name": "stdout",
     "output_type": "stream",
     "text": [
      "What is your name ??? Marios\n",
      "Hello Marios!\n"
     ]
    }
   ],
   "source": [
    "# CELL B: Strings are sets of programmed text in this cell. \n",
    "# run this code, what happens? What is the code below doing? What could you change?\n",
    "name = input(\"What is your name ??? \")\n",
    "hi   = \"Hello \" + name + \"!\" # Addition is concatenation\n",
    "print(hi)"
   ]
  },
  {
   "cell_type": "code",
   "execution_count": 9,
   "metadata": {},
   "outputs": [
    {
     "name": "stdout",
     "output_type": "stream",
     "text": [
      "1100000\n"
     ]
    }
   ],
   "source": [
    "# CELL C: Python can process complex expressions. Run and think about what these codes do:\n",
    "x = 100\n",
    "print(10000*x + 100000)"
   ]
  },
  {
   "cell_type": "markdown",
   "metadata": {},
   "source": [
    "## TASK 4: Program something fun in your group"
   ]
  },
  {
   "cell_type": "code",
   "execution_count": null,
   "metadata": {
    "collapsed": true
   },
   "outputs": [],
   "source": [
    "# Computers can't handle  large numbers directly! \n",
    "# For example: Divide by a small number (2/0.008) or multiply by a large number (2* 1000).\n",
    "# Think of very complex numbers to make the computer work hard. What would you type?\n"
   ]
  },
  {
   "cell_type": "code",
   "execution_count": null,
   "metadata": {
    "collapsed": true
   },
   "outputs": [],
   "source": [
    "# Write your own code and evaluate how your code works.\n",
    "\n",
    "\n"
   ]
  },
  {
   "cell_type": "markdown",
   "metadata": {},
   "source": [
    "# 2.2. <u>Programming Number Operations w/ Python<u/>\n",
    "Use card 2.2. for this section.\n",
    "\n",
    "We're learning operations in Python to program the Guessing Game!!"
   ]
  },
  {
   "cell_type": "markdown",
   "metadata": {},
   "source": [
    "## TASK 1: Using the card, talk about Variables and Equations\n",
    "## TASK 2: Variables and Equations w/ Python"
   ]
  },
  {
   "cell_type": "code",
   "execution_count": null,
   "metadata": {
    "collapsed": true,
    "scrolled": false
   },
   "outputs": [],
   "source": [
    "# You can program or evaluate linear equations in Python. \n",
    "# We have two variables below, notice how and when each variable is defined.\n",
    "x = 1        # Step 1. Assign x first.\n",
    "y = 3*x + 2  # Step 2. Plug-in x into the equation.\n",
    "print(x, y)  # Step 3. print x and y.\n",
    "\n",
    "# Run the code. How do these codes work? What happens if you change the value of the variables?"
   ]
  },
  {
   "cell_type": "code",
   "execution_count": null,
   "metadata": {
    "collapsed": true
   },
   "outputs": [],
   "source": [
    "# Now, evaluate the equation or code below. What would be the correct order? \n",
    "#   y = 2*x + 5\n",
    "# for x = 2.\n",
    "# Type your code for this equation below. Remember the code order matters.\n",
    "\n",
    "\n"
   ]
  },
  {
   "cell_type": "code",
   "execution_count": null,
   "metadata": {
    "collapsed": true
   },
   "outputs": [],
   "source": [
    "# Exponentiation example. Run it and come up with other examples.\n",
    "print (2**3)"
   ]
  },
  {
   "cell_type": "markdown",
   "metadata": {},
   "source": [
    "## TASK 3: Order of Operations\n",
    "\n",
    "You solve a complex expression by following the order (PEMDAS):\n",
    "   1. P:  Parenthetic expressions.\n",
    "   2. E:  Exponents.\n",
    "   3. MD: Multiplications and divisions from left to right.\n",
    "   4. AS: Additions and subtractions from left to right.\n",
    "Python uses these symbols for each operation:\n",
    "\n",
    "                         ∗   for multiplication\n",
    "     \n",
    "                /, +, -, ()  as in regular math \n",
    "     \n",
    "                     ∗∗     for exponentiation \n",
    "   \n",
    "For example:\n",
    "\n",
    "      2**3 + (1+2)*3 - 6/2\n",
    "    = 2**3 + 3*3     - 6/2    P: (1+2)=(3) \n",
    "    = 8    + 3*3     - 6/2    E: 2**3=8\n",
    "    = 8    + 9       - 3      MD: 3*3=9 and 6/2=3.\n",
    "    = 14                      AS: 8+9-3=14.\n",
    "    \n",
    "Python can automatically figure the order of operations for you :-).\n",
    "You type the operations and evaluate them."
   ]
  },
  {
   "cell_type": "code",
   "execution_count": null,
   "metadata": {
    "collapsed": true
   },
   "outputs": [],
   "source": [
    "# Let us do an example:\n",
    "result = (2*3) + 4\n",
    "print(result)\n",
    "\n",
    "# You can also use varables for each part of the equation or a substitutiton.\n",
    "# Here is an example: (2*3)  +   4\n",
    "a = (2*3)\n",
    "b = 4\n",
    "result = a + b\n",
    "print(result)"
   ]
  },
  {
   "cell_type": "code",
   "execution_count": null,
   "metadata": {
    "collapsed": true
   },
   "outputs": [],
   "source": [
    "# Use substitutions or variables for longer expressions:\n",
    "# BREAK the following long expresion\n",
    "# 2*3 + 4*2 + 5*10\n",
    "a = \n",
    "b = \n",
    "c = \n",
    "result = \n",
    "print(result)\n",
    "# Run code and if it works, come up with a couple more examples that work."
   ]
  },
  {
   "cell_type": "markdown",
   "metadata": {},
   "source": [
    "## TASK 4: Evaluate a Complex Expression & Create your Code\n",
    "What would be your Python code to operate the following:\n",
    "$$ 2*3*4 + 5*6*7 + 2*6 + 7*8\n",
    "$$"
   ]
  },
  {
   "cell_type": "code",
   "execution_count": null,
   "metadata": {
    "collapsed": true
   },
   "outputs": [],
   "source": [
    "# Write your answer here:\n"
   ]
  },
  {
   "cell_type": "markdown",
   "metadata": {},
   "source": [
    "# 2.3. <u>Creating Your Number Guessing Game w/ Python<u/>\n",
    "Use card 2.3. for this section before you work on the code below.\n",
    "\n",
    "For the Guessing game, you need to think or use a linear equation.<br>\n",
    "It cannot be 2*x+3 :-(.<br>\n",
    "Then, apply the inverse steps.<br>"
   ]
  },
  {
   "cell_type": "code",
   "execution_count": null,
   "metadata": {
    "collapsed": true
   },
   "outputs": [],
   "source": [
    "# Carefully modify the code below to \n",
    "# implement your equation for a new Number Guessing Game.\n",
    "# Run the code to make sure that it works!\n",
    "\n",
    "name = input(\"What is your name? \")\n",
    "hi   = \"Hello \" + name + \"!\" # Addition is concatenation:\n",
    "print(hi)\n",
    "print(\" \") # prints an empty line\n",
    "print(\"Let us play a game!\")\n",
    "\n",
    "# Recall inverse operations\n",
    "msg = \"Think of a number but do not tell me! Press Enter when done.\"\n",
    "wait = input(msg)                           # x\n",
    "wait = input(\"Multiply by 2 and hit enter\") # 2*x\n",
    "wait = input(\"Add 3 and hit enter\")         # 2*x + 3\n",
    "\n",
    "print(\" \")\n",
    "s = input(\"Give me the result from this operation : \")  # 2*x + 3\n",
    "print(\" \")\n",
    "\n",
    "# Apply inverse operations:\n",
    "y  = int(s) # Convert from a string to a number.\n",
    "x1 = y - 3  # (2*x + 3) - 3 = 2*x\n",
    "x2 = x1/2   # (2*x)/2 = x\n",
    "\n",
    "# Message\n",
    "msg = \"Your number is \"+str(x2) # str(x2) makes it into a number.\n",
    "print(msg)\n",
    "msg = \"Aren't you impressed \"+name+\" :-)\"\n",
    "print(msg)"
   ]
  }
 ],
 "metadata": {
  "kernelspec": {
   "display_name": "Python 3",
   "language": "python",
   "name": "python3"
  },
  "language_info": {
   "codemirror_mode": {
    "name": "ipython",
    "version": 3
   },
   "file_extension": ".py",
   "mimetype": "text/x-python",
   "name": "python",
   "nbconvert_exporter": "python",
   "pygments_lexer": "ipython3",
   "version": "3.6.3"
  }
 },
 "nbformat": 4,
 "nbformat_minor": 2
}
