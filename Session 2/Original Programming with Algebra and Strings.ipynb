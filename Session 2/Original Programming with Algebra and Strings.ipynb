{
 "cells": [
  {
   "cell_type": "markdown",
   "metadata": {},
   "source": [
    "# Fundamentals of Python Programming\n",
    "## Algebra using Python"
   ]
  },
  {
   "cell_type": "code",
   "execution_count": 1,
   "metadata": {},
   "outputs": [
    {
     "name": "stdout",
     "output_type": "stream",
     "text": [
      "5\n"
     ]
    }
   ],
   "source": [
    "# When you put a # at the begining, this creates a COMMENT.\n",
    "# The computer does not process comments.\n",
    "# Use comments to document your understanding.\n",
    "\n",
    "# Note that computers process code in order.\n",
    "# This means that they execute one line after the other.\n",
    "x = 5     # Step 1. Store 5 in x.\n",
    "print(x)  # Step 2. print(x).\n",
    "\n",
    "# Click on the play button to see what the code does."
   ]
  },
  {
   "cell_type": "code",
   "execution_count": null,
   "metadata": {
    "collapsed": true
   },
   "outputs": [],
   "source": [
    "# Recall linear equations from middle-school Math.\n",
    "# You can evaluate linear equations in Python.\n",
    "x = 1        # Step 1. Assign x first.\n",
    "y = 3*x + 2  # Step 2. Plug-in x into the equation.\n",
    "print(x, y)  # Step 3. print x and y.\n",
    "\n",
    "# What does the code do?"
   ]
  },
  {
   "cell_type": "markdown",
   "metadata": {},
   "source": [
    "## Activity I: Linear equations in Python"
   ]
  },
  {
   "cell_type": "code",
   "execution_count": null,
   "metadata": {
    "collapsed": true
   },
   "outputs": [],
   "source": [
    "# Write the code to evaluate:\n",
    "#   y = 2*x + 5\n",
    "# for x = 2.\n",
    "# Type your code below:\n",
    "# Remember that the order of your statements matters.\n"
   ]
  },
  {
   "cell_type": "markdown",
   "metadata": {},
   "source": [
    "## Activity II: Evaluate complex expressions!"
   ]
  },
  {
   "cell_type": "code",
   "execution_count": null,
   "metadata": {
    "collapsed": true
   },
   "outputs": [],
   "source": [
    "# You can use Python to evaluate complex expressions like:\n",
    "x = 100\n",
    "print(10000*x + 100000)"
   ]
  },
  {
   "cell_type": "code",
   "execution_count": null,
   "metadata": {
    "collapsed": true
   },
   "outputs": [],
   "source": [
    "# Write and evaluate your own expressions.\n",
    "\n",
    "\n"
   ]
  },
  {
   "cell_type": "markdown",
   "metadata": {},
   "source": [
    "## Order of Operations\n",
    "\n",
    "What do you know about the order of operations?\n",
    "\n",
    "Can you evaluate the following?\n",
    "  $$ 2^3 - 4\\cdot (1+2) + 6/3$$\n"
   ]
  },
  {
   "cell_type": "markdown",
   "metadata": {},
   "source": [
    "In Python, use:<br>\n",
    "   &nbsp;&nbsp;&nbsp;&nbsp;$*$ for multiplication. <br>\n",
    "   &nbsp;&nbsp;&nbsp;&nbsp;/, +, -, () as in regular math <br>\n",
    "   &nbsp;&nbsp;&nbsp;&nbsp;$**$ is used for exponentiation <br>"
   ]
  },
  {
   "cell_type": "code",
   "execution_count": null,
   "metadata": {
    "collapsed": true
   },
   "outputs": [],
   "source": [
    "# Exponentiation example\n",
    "print (2**3)"
   ]
  },
  {
   "cell_type": "markdown",
   "metadata": {},
   "source": [
    "## Review of Order of Operations\n",
    "\n",
    "For a complex expression, you need to evaluate\n",
    "them in the following order (PEMDAS):\n",
    "   1. P:  Parenthetic expressions.\n",
    "   2. E:  Exponents.\n",
    "   3. MD: Multiplications and divisions from left to right.\n",
    "   4. AS: Additions and subtractions from left to right.\n",
    "   \n",
    "For example:\n",
    "\n",
    "      2**3 + (1+2)*3 - 6/2\n",
    "    = 2**3 + 3*3     - 6/2    P: (1+2)=(3) \n",
    "    = 8    + 3*3     - 6/2    E: 2**3=8\n",
    "    = 8    + 9       - 3      MD: 3*3=9 and 6/2=3.\n",
    "    = 14                      AS: 8+9-3=14.\n",
    "    \n",
    "In Python, the order of operations can be done for you automatically :-).\n",
    "All you need to do is to type them and evaluate them."
   ]
  },
  {
   "cell_type": "code",
   "execution_count": null,
   "metadata": {
    "collapsed": true
   },
   "outputs": [],
   "source": [
    "# Let us do a simple example:\n",
    "result = (2*3) + 4\n",
    "print(result)\n",
    "\n",
    "# You can also use substitutiton.\n",
    "# BREAK long expresions at \"+\" or \"-\".\n",
    "# Here is an example:\n",
    "#   (2*3)  +   4\n",
    "a = (2*3)\n",
    "b = 4\n",
    "result = a + b\n",
    "print(result)"
   ]
  },
  {
   "cell_type": "code",
   "execution_count": null,
   "metadata": {
    "collapsed": true
   },
   "outputs": [],
   "source": [
    "# You can use substitution for long expressions:\n",
    "# BREAK the following long expresion\n",
    "# 2*3 + 4*2 + 5*10\n",
    "a = \n",
    "b = \n",
    "c = \n",
    "result = \n",
    "print(result)"
   ]
  },
  {
   "cell_type": "markdown",
   "metadata": {},
   "source": [
    "## Activity III: Evaluate a complex experssion\n",
    "Write the Python code to evaluate the following:\n",
    "$$ 2*3*4 + 5*6*7 + 2*6 + 7*8\n",
    "$$"
   ]
  },
  {
   "cell_type": "code",
   "execution_count": null,
   "metadata": {
    "collapsed": true
   },
   "outputs": [],
   "source": [
    "# Write your answer here:\n"
   ]
  },
  {
   "cell_type": "markdown",
   "metadata": {},
   "source": [
    "### Activity IV: Big numbers that the computer cannot handle!\n",
    "Computers cannot handle very large numbers directly!\n",
    "Provide three examples that break the computer:\n",
    "    1. Try dividing by a small number.\n",
    "    2. Try to exponentiate to a large number.\n",
    "    3. Try multiplying large numbers.\n",
    "\n",
    "If the computer gets stuck:\n",
    "\n",
    "     Click on  Kernel\n",
    "     Click on  Restart & Clear Output\n",
    "     \n",
    "Please save your work by clicking on disk icon BEFORE you complete this assignment."
   ]
  },
  {
   "cell_type": "markdown",
   "metadata": {},
   "source": [
    "## Number Guessing Activity\n",
    "We want to create a number guessing activity.\n",
    "\n",
    "To make the game, we need to explain inverse operations.\n",
    "\n",
    "### The inverse operation of multiplication is division\n",
    "Consider the following game:\n",
    "\n",
    "     Give me a number   x\n",
    "     Multiply by 2      2*x\n",
    "     Divide by 2        (2*x)/2=x\n",
    "\n",
    "We are back to x.<br>\n",
    "We say that \"divide by 2\" is the inverse of \"multiply by 2\".<br>\n",
    "\n",
    "More generally, \"divide by a\" is the inverse of \"multiply by a\".<br>\n",
    "\n",
    "### The inverse operation of addition is subtraction\n",
    "Consider the following game:\n",
    "\n",
    "     Give me a number   x\n",
    "     Add 3              x+3\n",
    "     Subtract 3         (x+3)-3=x\n",
    "     \n",
    "Thus, subtraction is the inverse of addition.  "
   ]
  },
  {
   "cell_type": "code",
   "execution_count": null,
   "metadata": {
    "collapsed": true
   },
   "outputs": [],
   "source": [
    "# Strings\n",
    "#  Strings are enclosed in \"abc\"\n",
    "name = input(\"What is your name? \")\n",
    "hi   = \"Hello \" + name + \"!\" # Addition is concatenation\n",
    "print(hi)"
   ]
  },
  {
   "cell_type": "code",
   "execution_count": null,
   "metadata": {},
   "outputs": [],
   "source": [
    "# Full game based on the example.\n",
    "name = input(\"What is your name? \")\n",
    "hi   = \"Hello \" + name + \"!\" # Addition is concatenation:\n",
    "print(hi)\n",
    "print(\" \") # prints an empty line\n",
    "print(\"Let us play a game!\")\n",
    "\n",
    "# Recall inverse operations\n",
    "msg = \"Think of a number but do not tell me! Press Enter when done.\"\n",
    "wait = input(msg)                           # x\n",
    "wait = input(\"Multiply by 2 and hit enter\") # 2*x\n",
    "wait = input(\"Add 3 and hit enter\")         # 2*x + 3\n",
    "\n",
    "print(\" \")\n",
    "s = input(\"Give me the result from this operation : \")  # 2*x + 3\n",
    "print(\" \")\n",
    "\n",
    "# Apply inverse operations:\n",
    "y  = int(s) # Convert from a string to a number.\n",
    "x1 = y - 3  # (2*x + 3) - 3 = 2*x\n",
    "x2 = x1/2   # (2*x)/2 = x\n",
    "\n",
    "# Message\n",
    "msg = \"Your number is \"+str(x2) # str(x2) makes it into a number.\n",
    "print(msg)\n",
    "msg = \"Aren't you impressed \"+name+\" :-)\"\n",
    "print(msg)"
   ]
  },
  {
   "cell_type": "markdown",
   "metadata": {},
   "source": [
    "## Activity V: Make your own number guessing activity\n",
    "\n",
    "You need to think of a linear equation.<br>\n",
    "It cannot be 2*x+3 :-(.<br>\n",
    "Then apply the inverse steps.<br>"
   ]
  },
  {
   "cell_type": "code",
   "execution_count": null,
   "metadata": {
    "collapsed": true
   },
   "outputs": [],
   "source": [
    "# Carefully modify the code below to \n",
    "# implement your equation.\n",
    "\n",
    "# Run the code to make sure that it works!\n",
    "\n",
    "name = input(\"What is your name? \")\n",
    "hi   = \"Hello \" + name + \"!\" # Addition is concatenation:\n",
    "print(hi)\n",
    "print(\" \") # prints an empty line\n",
    "print(\"Let us play a game!\")\n",
    "\n",
    "# Recall inverse operations\n",
    "msg = \"Think of a number but do not tell me! Press Enter when done.\"\n",
    "wait = input(msg)                           # x\n",
    "wait = input(\"Multiply by 2 and hit enter\") # 2*x\n",
    "wait = input(\"Add 3 and hit enter\")         # 2*x + 3\n",
    "\n",
    "print(\" \")\n",
    "s = input(\"Give me the result from this operation : \")  # 2*x + 3\n",
    "print(\" \")\n",
    "\n",
    "# Apply inverse operations:\n",
    "y  = int(s) # Convert from a string to a number.\n",
    "x1 = y - 3  # (2*x + 3) - 3 = 2*x\n",
    "x2 = x1/2   # (2*x)/2 = x\n",
    "\n",
    "# Message\n",
    "msg = \"Your number is \"+str(x2) # str(x2) makes it into a number.\n",
    "print(msg)\n",
    "msg = \"Aren't you impressed \"+name+\" :-)\"\n",
    "print(msg)"
   ]
  }
 ],
 "metadata": {
  "kernelspec": {
   "display_name": "Python 3",
   "language": "python",
   "name": "python3"
  },
  "language_info": {
   "codemirror_mode": {
    "name": "ipython",
    "version": 3
   },
   "file_extension": ".py",
   "mimetype": "text/x-python",
   "name": "python",
   "nbconvert_exporter": "python",
   "pygments_lexer": "ipython3",
   "version": "3.6.7"
  }
 },
 "nbformat": 4,
 "nbformat_minor": 2
}
