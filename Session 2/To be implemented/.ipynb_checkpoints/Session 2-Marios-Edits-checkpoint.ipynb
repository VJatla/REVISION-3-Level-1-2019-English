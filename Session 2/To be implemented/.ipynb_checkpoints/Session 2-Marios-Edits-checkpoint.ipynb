{
 "cells": [
  {
   "cell_type": "markdown",
   "metadata": {},
   "source": [
    "# Session 2-Introduction to Python Programming\n",
    "# 2.1. <u>Exploring Programming with Python <u/>\n",
    "Use card 2.1. for this section.\n",
    "## TASK 1: You accessed a file and explored the Jupyter's taskbar.\n",
    "## TASK 2: Now, let's Play the Guessing Game\n",
    "Explore Python Programming through the guessing game. The code <b>Below</b> makes the game work. <i>Play</i> the game by entering the information needed in the space at the bottom of the code of the game."
   ]
  },
  {
   "cell_type": "code",
   "execution_count": 9,
   "metadata": {},
   "outputs": [
    {
     "name": "stdout",
     "output_type": "stream",
     "text": [
      "What is your name? 2\n",
      "Hello 2!\n",
      " \n",
      "Let us play a game!\n",
      "Think of a number but do not tell me! Press Enter when done.\n",
      "Multiply by 2 and hit enter\n",
      "Add 3 and hit enter\n",
      " \n",
      "Give me the result from this operation : 5\n",
      " \n",
      "Your number is 1\n",
      "Aren't you impressed 2 :-)\n"
     ]
    }
   ],
   "source": [
    "# EXAMPLE: THIS CELL HAS THE GUESSING GAME EXAMPLE\n",
    "# We are going to review and understand all pieces of this code by the end of the session.\n",
    "\n",
    "name = input(\"What is your name? \")\n",
    "hi   = \"Hello \" + name + \"!\" # What do you think the Addition signs do?\n",
    "print(hi)\n",
    "print(\" \") # prints an empty line\n",
    "print(\"Let us play a game!\")\n",
    "\n",
    "# Recall inverse operations\n",
    "msg = \"Think of an integer number but do not tell me! Press Enter when done.\"\n",
    "wait = input(msg)                           # x\n",
    "wait = input(\"Multiply by 2 and hit enter\") # 2*x\n",
    "wait = input(\"Add 3 and hit enter\")         # 2*x + 3\n",
    "\n",
    "print(\" \")\n",
    "s = input(\"Give me the result from this operation : \")  # 2*x + 3\n",
    "print(\" \")\n",
    "\n",
    "# Apply inverse operations:\n",
    "y  = int(s)      # Convert from a string to a number.\n",
    "x1 = y - 3       # (2*x + 3) - 3 = 2*x\n",
    "x2 = int(x1/2)   # (2*x)/2 = x\n",
    "\n",
    "# Message\n",
    "msg = \"Your number is \"+str(x2) # str(x2) makes it into a number.\n",
    "print(msg)\n",
    "msg = \"Aren't you impressed \"+name+\" :-)\"\n",
    "print(msg)"
   ]
  },
  {
   "cell_type": "markdown",
   "metadata": {},
   "source": [
    "## TASK 3: Assignments and 'print' Commands \n",
    "The examples in the 3 cells (A, B, C) below will help us learn the <b>print<b/>  command. "
   ]
  },
  {
   "cell_type": "code",
   "execution_count": null,
   "metadata": {
    "collapsed": true,
    "scrolled": true
   },
   "outputs": [],
   "source": [
    "# CELL A: When you type \"#\" at the begining of a line, it creates a COMMENT.\n",
    "# The computer does not process comments.\n",
    "# USE COMMENTS TO DESCRIBE WHAT YOU NOTICE.\n",
    "# Computers process code in order, line by line. See below:\n",
    "x = 5     \n",
    "print(x)\n",
    "\n",
    "# While in this cell, click on the play button and run the code. What happens?\n",
    "# After running this code, clear cell and print other numbers."
   ]
  },
  {
   "cell_type": "code",
   "execution_count": null,
   "metadata": {
    "collapsed": true
   },
   "outputs": [],
   "source": [
    "# CELL B: Strings are sets of programmed text in this cell. \n",
    "# run this code, what happens? What is the code below doing? What could you change?\n",
    "name = input(\"What is your name ??? \")\n",
    "hi   = \"Hello \" + name + \"!\" # Addition is concatenation\n",
    "print(hi)"
   ]
  },
  {
   "cell_type": "code",
   "execution_count": null,
   "metadata": {
    "collapsed": true
   },
   "outputs": [],
   "source": [
    "# CELL C: Python can process complex expressions. Run and think about what these codes do:\n",
    "x = 100\n",
    "print(10000*x + 100000)"
   ]
  },
  {
   "cell_type": "markdown",
   "metadata": {},
   "source": [
    "## TASK 4: Program something fun in your group"
   ]
  },
  {
   "cell_type": "code",
   "execution_count": null,
   "metadata": {
    "collapsed": true
   },
   "outputs": [],
   "source": [
    "# Computers can't handle  large numbers directly! \n",
    "# For example: Divide by a small number (2/0.008) or multiply by a large number (2* 1000).\n",
    "# Think of very complex numbers to make the computer work hard. What would you type?\n"
   ]
  },
  {
   "cell_type": "code",
   "execution_count": null,
   "metadata": {
    "collapsed": true
   },
   "outputs": [],
   "source": [
    "# Write your own code and evaluate how your code works.\n",
    "\n",
    "\n"
   ]
  },
  {
   "cell_type": "markdown",
   "metadata": {},
   "source": [
    "# 2.2. <u>Programming Number Operations w/ Python<u/>\n",
    "Use card 2.2. for this section.\n",
    "\n",
    "We're learning operations in Python to program the Guessing Game!!"
   ]
  },
  {
   "cell_type": "markdown",
   "metadata": {},
   "source": [
    "## TASK 1: Using Algebra to program the Guessing Game\n",
    "       Read Card 2.2.1\n",
    "## TASK 2: Connecting the Game to Variables and Operations w/ Python"
   ]
  },
  {
   "cell_type": "code",
   "execution_count": null,
   "metadata": {
    "scrolled": false
   },
   "outputs": [],
   "source": [
    "# CELL 2A: The operations\n",
    "# PLAY MULTIPLE TIMES AND EXPLAIN HOW THE OPERATIONS WORK.\n",
    "x = int(input(\"Enter a number:              x     = \"))\n",
    "print(\"Multiplying x by 2 gives:    2*x   =\", 2*x)\n",
    "print(\"Adding 3 to the result gives 2*x+3 =\", 2*x+3)\n",
    "print(\" \")\n",
    "print(\"What happened?\")"
   ]
  },
  {
   "cell_type": "code",
   "execution_count": null,
   "metadata": {
    "scrolled": false
   },
   "outputs": [],
   "source": [
    "# CELL 2B: Using and Operating Variables\n",
    "# PLAY MULTIPLE TIMES. EXPLAIN y and z.\n",
    "x = int(input(\"Enter a number:               x = \"))\n",
    "\n",
    "y = 2*x\n",
    "print(\"Multiplying x by 2 gives:     y = 2*x   =\", y)\n",
    "\n",
    "z = y+3\n",
    "print(\"Adding 3 to the result gives: z = 2*x+3 =\", z)\n",
    "\n",
    "print(\" \")\n",
    "print(\"What happened?\")\n",
    "print(\"What do y and z do?\")"
   ]
  },
  {
   "cell_type": "code",
   "execution_count": null,
   "metadata": {
    "scrolled": false
   },
   "outputs": [],
   "source": [
    "# CELL 2C: Your turn to operate.\n",
    "# DESIGN your own operations.\n",
    "x = int(input(\"Enter a number:               x = \"))\n",
    "\n",
    "y = ?   # <- Multiply by your own number\n",
    "print(\"Multiplying x by ? gives:     y = ?*x   =\", y)\n",
    "\n",
    "z = ?   # <- Add your own number\n",
    "print(\"Adding ? to the result gives: z = ?*x+? =\", z)\n"
   ]
  },
  {
   "cell_type": "markdown",
   "metadata": {},
   "source": [
    "# 2.3. <u>Creating Your Number Guessing Game w/ Python<u/>\n",
    "Use card 2.3. for this section before you work on the code below.\n",
    "\n",
    "For the Guessing game, you need to think or use a linear equation.<br>\n",
    "It cannot be 2*x+3 :-(.<br>\n",
    "Then, apply the inverse steps.<br>"
   ]
  },
  {
   "cell_type": "code",
   "execution_count": null,
   "metadata": {
    "collapsed": true
   },
   "outputs": [],
   "source": [
    "# Carefully modify the code below to \n",
    "# implement your equation for a new Number Guessing Game.\n",
    "# Run the code to make sure that it works!\n",
    "\n",
    "name = input(\"What is your name? \")\n",
    "hi   = \"Hello \" + name + \"!\" # Addition is concatenation:\n",
    "print(hi)\n",
    "print(\" \") # prints an empty line\n",
    "print(\"Let us play a game!\")\n",
    "\n",
    "# Recall inverse operations\n",
    "msg = \"Think of an integer number but do not tell me! Press Enter when done.\"\n",
    "wait = input(msg)                           # x\n",
    "wait = input(\"Multiply by 2 and hit enter\") # 2*x      <- 1. Change multiply.\n",
    "wait = input(\"Add 3 and hit enter\")         # 2*x + 3  <- 2. Change addition.\n",
    "\n",
    "print(\" \")\n",
    "s = input(\"Give me the result from this operation : \")  # 2*x + 3 <- 3. Change equation.\n",
    "print(\" \")\n",
    "\n",
    "# Apply inverse operations:\n",
    "y  = int(s) # Convert from a string to a number.  \n",
    "x1 = y - 3  # (2*x + 3) - 3 = 2*x                 <- 4. Reverse addition.\n",
    "x2 = int(x1/2)   # (2*x)/2 = x                    <- 5. Reverse multiply.\n",
    "\n",
    "# Message\n",
    "msg = \"Your number is \"+str(x2) # str(x2) makes it into a number.\n",
    "print(msg)\n",
    "msg = \"Aren't you impressed \"+name+\" :-)\"\n",
    "print(msg)"
   ]
  }
 ],
 "metadata": {
  "kernelspec": {
   "display_name": "Python 3",
   "language": "python",
   "name": "python3"
  },
  "language_info": {
   "codemirror_mode": {
    "name": "ipython",
    "version": 3
   },
   "file_extension": ".py",
   "mimetype": "text/x-python",
   "name": "python",
   "nbconvert_exporter": "python",
   "pygments_lexer": "ipython3",
   "version": "3.6.7"
  }
 },
 "nbformat": 4,
 "nbformat_minor": 2
}
