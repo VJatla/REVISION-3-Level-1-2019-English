{
 "cells": [
  {
   "cell_type": "markdown",
   "metadata": {},
   "source": [
    "# Session 2-Introduction to Python Programming\n",
    "# 2.1. <u>Exploring Programming with Python <u/>\n",
    "Use card 2.1. for this section.\n",
    "## TASK 1: You accessed a file and explored the Jupyter's taskbar.\n",
    "## TASK 2: Now, let's play the Guessing Game.\n",
    "Explore Python Programming through the guessing game. The code <b>below</b> makes the game work. <i>Play</i> the game by entering the information that the program asks."
   ]
  },
  {
   "cell_type": "code",
   "execution_count": 3,
   "metadata": {},
   "outputs": [
    {
     "name": "stdout",
     "output_type": "stream",
     "text": [
      "What is your name? Marios\n",
      "Hello Marios!\n",
      " \n",
      "Let us play a game!\n",
      "Think of an integer number but do not tell me! Press Enter when done.\n",
      "Multiply by 2 and hit enter\n",
      "Add 3 and hit enter\n",
      " \n",
      "Give me the result from this operation : 7\n",
      " \n",
      "Your number is 2\n",
      "Aren't you impressed Marios :-)\n"
     ]
    }
   ],
   "source": [
    "name = input(\"What is your name? \")\n",
    "hi   = \"Hello \" + name + \"!\" # What do you think the Addition signs do?\n",
    "print(hi)\n",
    "print(\" \") # prints an empty line\n",
    "print(\"Let us play a game!\")\n",
    "\n",
    "# Recall inverse operations\n",
    "msg = \"Think of an integer number but do not tell me! Press Enter when done.\"\n",
    "wait = input(msg)                           # x\n",
    "wait = input(\"Multiply by 2 and hit enter\") # 2*x\n",
    "wait = input(\"Add 3 and hit enter\")         # 2*x + 3\n",
    "\n",
    "print(\" \")\n",
    "s = input(\"Give me the result from this operation : \")  # 2*x + 3\n",
    "print(\" \")\n",
    "\n",
    "# Apply inverse operations:\n",
    "y  = int(s)      # Convert from a string to a number.\n",
    "x1 = y - 3       # (2*x + 3) - 3 = 2*x\n",
    "x2 = int(x1/2)   # (2*x)/2 = x\n",
    "\n",
    "# Message\n",
    "msg = \"Your number is \"+str(x2) # str(x2) makes it into a number.\n",
    "print(msg)\n",
    "msg = \"Aren't you impressed \"+name+\" :-)\"\n",
    "print(msg)"
   ]
  },
  {
   "cell_type": "markdown",
   "metadata": {},
   "source": [
    "## TASK 3: Assignments and 'print' Commands \n",
    "The examples in the 3 cells (A, B, C) below will help us learn the <b>print</b>  command. \n",
    "When you type \"\\#\" at the begining of a line, it creates a COMMENT.\n",
    "Computers process code in order, line by line. See below:"
   ]
  },
  {
   "cell_type": "code",
   "execution_count": 4,
   "metadata": {
    "scrolled": true
   },
   "outputs": [
    {
     "name": "stdout",
     "output_type": "stream",
     "text": [
      "5\n"
     ]
    }
   ],
   "source": [
    "# CELL A: What will the 'print' command do? \n",
    "# Run CELL A and think about it and discuss with your friends.\n",
    "x = 5     \n",
    "print(x)"
   ]
  },
  {
   "cell_type": "code",
   "execution_count": null,
   "metadata": {
    "collapsed": true
   },
   "outputs": [],
   "source": [
    "# CELL B: The red text below in programming is called String. \n",
    "# What do you think the print command does? \n",
    "# What happens when you change the String?\n",
    "name = input(\"What is your name ??? \")\n",
    "hi   = \"Hello \" + name + \"!\" # What do the plus signs do?\n",
    "print(hi)"
   ]
  },
  {
   "cell_type": "code",
   "execution_count": null,
   "metadata": {
    "collapsed": true
   },
   "outputs": [],
   "source": [
    "# CELL C: Python can process complex expressions. \n",
    "# Run and think about what the code does.\n",
    "x = 100\n",
    "print(10000*x + 100000)"
   ]
  },
  {
   "cell_type": "markdown",
   "metadata": {},
   "source": [
    "## TASK 4: Program something fun in your group.\n",
    "Program a complex math operation.<br>\n",
    "Experiment with what you learned so far!"
   ]
  },
  {
   "cell_type": "code",
   "execution_count": null,
   "metadata": {
    "collapsed": true
   },
   "outputs": [],
   "source": []
  },
  {
   "cell_type": "markdown",
   "metadata": {},
   "source": [
    "# 2.2. <u>Programming Number Operations w/ Python<u/>\n",
    "Use card 2.2. for this section.\n",
    "\n",
    "We're learning operations in Python to program the Guessing Game!!"
   ]
  },
  {
   "cell_type": "markdown",
   "metadata": {},
   "source": [
    "## TASK 1: Using Algebra to program the Guessing Game\n",
    "       Read Card 2.2.1\n",
    "## TASK 2: Connecting the Game to Variables and Operations w/ Python"
   ]
  },
  {
   "cell_type": "code",
   "execution_count": 6,
   "metadata": {
    "scrolled": false
   },
   "outputs": [
    {
     "name": "stdout",
     "output_type": "stream",
     "text": [
      "Enter a number:              x     = 3\n",
      "Multiplying x by 2 gives:    2*x   = 6\n",
      "Adding 3 to the result gives 2*x+3 = 9\n"
     ]
    }
   ],
   "source": [
    "# CELL 2A: Run this cell and enter a number. \n",
    "# How does your number change? Why?\n",
    "# Can you explain what the lines below do?\n",
    "# After playing a couple of times, take turns making changes \n",
    "# and predict what will happen.\n",
    "x = int(input(\"Enter a number:              x     = \"))\n",
    "print(\"Multiplying x by 2 gives:    2*x   =\", 2*x)\n",
    "print(\"Adding 3 to the result gives 2*x+3 =\", 2*x+3)"
   ]
  },
  {
   "cell_type": "code",
   "execution_count": 9,
   "metadata": {
    "scrolled": false
   },
   "outputs": [
    {
     "name": "stdout",
     "output_type": "stream",
     "text": [
      "Enter a number:               x = 5\n",
      "Multiplying x by 2 gives:     y = 2*x   = 10\n",
      "Adding 3 to the result gives: z = 2*x+3 = 13\n"
     ]
    }
   ],
   "source": [
    "# CELL 2B: Run this Cell. How is it different from Cell 2A?\n",
    "# x, y and z are variables. What is a variable?\n",
    "# How does the value of x relate to y and z?\n",
    "# After playing a couple times, take turns changing the name\n",
    "# of the variables.\n",
    "x = int(input(\"Enter a number:               x = \"))\n",
    "\n",
    "y = 2*x\n",
    "print(\"Multiplying x by 2 gives:     y = 2*x   =\", y)\n",
    "\n",
    "z = y+3\n",
    "print(\"Adding 3 to the result gives: z = 2*x+3 =\", z)"
   ]
  },
  {
   "cell_type": "code",
   "execution_count": null,
   "metadata": {
    "scrolled": false
   },
   "outputs": [],
   "source": [
    "# CELL 2C: Your turn to operate.\n",
    "# Take turns naming and operating the varibles below\n",
    "# Before you run your varibles, predict the results. \n",
    "x = int(input(\"Enter a number:               x = \"))\n",
    "\n",
    "y = ?   # <- Multiply by your own number.\n",
    "print(\"Multiplying x by ? gives:     y = ?*x   =\", y)\n",
    "\n",
    "z = ?   # <- Add your own number.\n",
    "print(\"Adding ? to the result gives: z = ?*x+? =\", z)\n"
   ]
  },
  {
   "cell_type": "markdown",
   "metadata": {},
   "source": [
    "# 2.3. <u>Creating Your Number Guessing Game w/ Python<u/>\n",
    "Use card 2.3. for this section before you work on the code below.\n",
    "\n",
    "For the Guessing game, you need to think or use an equation.<br>\n",
    "It cannot be 2*x+3 :-(.<br>\n",
    "Then, apply the inverse steps.<br>"
   ]
  },
  {
   "cell_type": "code",
   "execution_count": null,
   "metadata": {
    "collapsed": true
   },
   "outputs": [],
   "source": [
    "# Carefully modify the code below to \n",
    "# implement your equation for a new Number Guessing Game.\n",
    "# Run the code to make sure that it works!\n",
    "\n",
    "name = input(\"What is your name? \")\n",
    "hi   = \"Hello \" + name + \"!\" # Addition is concatenation:\n",
    "print(hi)\n",
    "print(\" \") # prints an empty line\n",
    "print(\"Let us play a game!\")\n",
    "\n",
    "# Recall inverse operations\n",
    "msg = \"Think of an integer number but do not tell me! Press Enter when done.\"\n",
    "wait = input(msg)                           # x\n",
    "wait = input(\"Multiply by 2 and hit enter\") # 2*x      <- 1. Change multiply.\n",
    "wait = input(\"Add 3 and hit enter\")         # 2*x + 3  <- 2. Change addition.\n",
    "\n",
    "print(\" \")\n",
    "s = input(\"Give me the result from this operation : \")  # 2*x + 3 <- 3. Change equation.\n",
    "print(\" \")\n",
    "\n",
    "# Apply inverse operations:\n",
    "y  = int(s) # Convert from a string to a number.  \n",
    "x1 = y - 3  # (2*x + 3) - 3 = 2*x                 <- 4. Reverse addition.\n",
    "x2 = int(x1/2)   # (2*x)/2 = x                    <- 5. Reverse multiply.\n",
    "\n",
    "# Message\n",
    "msg = \"Your number is \"+str(x2) # str(x2) makes it into a number.\n",
    "print(msg)\n",
    "msg = \"Aren't you impressed \"+name+\" :-)\"\n",
    "print(msg)"
   ]
  }
 ],
 "metadata": {
  "kernelspec": {
   "display_name": "Python 3",
   "language": "python",
   "name": "python3"
  },
  "language_info": {
   "codemirror_mode": {
    "name": "ipython",
    "version": 3
   },
   "file_extension": ".py",
   "mimetype": "text/x-python",
   "name": "python",
   "nbconvert_exporter": "python",
   "pygments_lexer": "ipython3",
   "version": "3.6.7"
  }
 },
 "nbformat": 4,
 "nbformat_minor": 2
}
